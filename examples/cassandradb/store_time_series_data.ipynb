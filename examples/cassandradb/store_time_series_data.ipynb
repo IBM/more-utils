{
 "cells": [
  {
   "cell_type": "markdown",
   "metadata": {},
   "source": [
    "### Import essential libraries"
   ]
  },
  {
   "cell_type": "code",
   "execution_count": 1,
   "metadata": {},
   "outputs": [],
   "source": [
    "import more_utils\n",
    "more_utils.set_logging_level(\"INFO\")\n",
    "\n",
    "import pandas as pd\n",
    "from more_utils.persistence.cassandradb import CassandraDB\n",
    "from more_utils.service import TimeseriesService"
   ]
  },
  {
   "cell_type": "markdown",
   "metadata": {},
   "source": [
    "#### Create a sink db connection to CassandraDB\n",
    "\n",
    "Params:\n",
    "1. hostname: ip adrress of the system where CassandraDB is running\n",
    "2. port: port number of the connection"
   ]
  },
  {
   "cell_type": "code",
   "execution_count": 2,
   "metadata": {},
   "outputs": [],
   "source": [
    "sink_conn = CassandraDB.connect(contact_points=[\"0.0.0.0\"], port=9042)"
   ]
  },
  {
   "cell_type": "markdown",
   "metadata": {},
   "source": [
    "#### Create timeseries service instance."
   ]
  },
  {
   "cell_type": "code",
   "execution_count": 3,
   "metadata": {},
   "outputs": [],
   "source": [
    "ts_service = TimeseriesService(sink_db_conn=sink_conn)"
   ]
  },
  {
   "cell_type": "markdown",
   "metadata": {},
   "source": [
    "#### Load forecasts from file"
   ]
  },
  {
   "cell_type": "code",
   "execution_count": 4,
   "metadata": {},
   "outputs": [],
   "source": [
    "df = pd.read_csv(\"/Users/dhaval/Projects/Datasets/nyc_taxi.csv\", parse_dates=[\"timestamp\"])"
   ]
  },
  {
   "cell_type": "markdown",
   "metadata": {},
   "source": [
    "#### Store Time series data"
   ]
  },
  {
   "cell_type": "code",
   "execution_count": 5,
   "metadata": {},
   "outputs": [
    {
     "name": "stderr",
     "output_type": "stream",
     "text": [
      "/Users/dhaval/.pyenv/versions/3.8.12/envs/venv-moreutils/lib/python3.8/site-packages/cassandra/cqlengine/models.py:575: UserWarning: Model __table_name__ will be case sensitive by default in 4.0. You should fix the __table_name__ value of the 'TimeSeriesEntity' model.\n",
      "  warn((\"Model __table_name__ will be case sensitive by default in 4.0. \"\n",
      "[2022-10-07 02:23:11:814] - WARNING - MoreUtils : Server warning: Batch for [moreutils.time_series] is of size 51068, exceeding specified threshold of 5120 by 45948.\n",
      "/Users/dhaval/.pyenv/versions/3.8.12/envs/venv-moreutils/lib/python3.8/site-packages/cassandra/cqlengine/query.py:221: UserWarning: Batch executed multiple times.\n",
      "  warn(msg)\n",
      "[2022-10-07 02:23:12:104] - WARNING - MoreUtils : Server warning: Batch for [moreutils.time_series] is of size 51000, exceeding specified threshold of 5120 by 45880.\n",
      "[2022-10-07 02:23:12:422] - WARNING - MoreUtils : Server warning: Batch for [moreutils.time_series] is of size 51000, exceeding specified threshold of 5120 by 45880.\n",
      "[2022-10-07 02:23:12:673] - WARNING - MoreUtils : Server warning: Batch for [moreutils.time_series] is of size 51000, exceeding specified threshold of 5120 by 45880.\n",
      "[2022-10-07 02:23:12:925] - WARNING - MoreUtils : Server warning: Batch for [moreutils.time_series] is of size 51000, exceeding specified threshold of 5120 by 45880.\n",
      "[2022-10-07 02:23:13:195] - WARNING - MoreUtils : Server warning: Batch for [moreutils.time_series] is of size 51000, exceeding specified threshold of 5120 by 45880.\n",
      "[2022-10-07 02:23:13:437] - WARNING - MoreUtils : Server warning: Batch for [moreutils.time_series] is of size 51000, exceeding specified threshold of 5120 by 45880.\n",
      "[2022-10-07 02:23:13:711] - WARNING - MoreUtils : Server warning: Batch for [moreutils.time_series] is of size 51000, exceeding specified threshold of 5120 by 45880.\n",
      "[2022-10-07 02:23:13:987] - WARNING - MoreUtils : Server warning: Batch for [moreutils.time_series] is of size 51000, exceeding specified threshold of 5120 by 45880.\n",
      "[2022-10-07 02:23:14:261] - WARNING - MoreUtils : Server warning: Batch for [moreutils.time_series] is of size 51000, exceeding specified threshold of 5120 by 45880.\n",
      "[2022-10-07 02:23:14:578] - WARNING - MoreUtils : Server warning: Batch for [moreutils.time_series] is of size 51000, exceeding specified threshold of 5120 by 45880.\n",
      "[2022-10-07 02:23:14:823] - WARNING - MoreUtils : Server warning: Batch for [moreutils.time_series] is of size 51000, exceeding specified threshold of 5120 by 45880.\n",
      "[2022-10-07 02:23:15:67] - WARNING - MoreUtils : Server warning: Batch for [moreutils.time_series] is of size 51000, exceeding specified threshold of 5120 by 45880.\n",
      "[2022-10-07 02:23:15:330] - WARNING - MoreUtils : Server warning: Batch for [moreutils.time_series] is of size 51000, exceeding specified threshold of 5120 by 45880.\n",
      "[2022-10-07 02:23:15:605] - WARNING - MoreUtils : Server warning: Batch for [moreutils.time_series] is of size 51000, exceeding specified threshold of 5120 by 45880.\n",
      "[2022-10-07 02:23:15:856] - WARNING - MoreUtils : Server warning: Batch for [moreutils.time_series] is of size 51000, exceeding specified threshold of 5120 by 45880.\n",
      "[2022-10-07 02:23:16:100] - WARNING - MoreUtils : Server warning: Batch for [moreutils.time_series] is of size 51000, exceeding specified threshold of 5120 by 45880.\n",
      "[2022-10-07 02:23:16:443] - WARNING - MoreUtils : Server warning: Batch for [moreutils.time_series] is of size 51000, exceeding specified threshold of 5120 by 45880.\n",
      "[2022-10-07 02:23:16:707] - WARNING - MoreUtils : Server warning: Batch for [moreutils.time_series] is of size 51000, exceeding specified threshold of 5120 by 45880.\n",
      "[2022-10-07 02:23:16:955] - WARNING - MoreUtils : Server warning: Batch for [moreutils.time_series] is of size 51000, exceeding specified threshold of 5120 by 45880.\n",
      "[2022-10-07 02:23:17:221] - WARNING - MoreUtils : Server warning: Batch for [moreutils.time_series] is of size 51000, exceeding specified threshold of 5120 by 45880.\n",
      "[2022-10-07 02:23:17:472] - WARNING - MoreUtils : Server warning: Batch for [moreutils.time_series] is of size 51000, exceeding specified threshold of 5120 by 45880.\n",
      "[2022-10-07 02:23:17:720] - WARNING - MoreUtils : Server warning: Batch for [moreutils.time_series] is of size 51000, exceeding specified threshold of 5120 by 45880.\n"
     ]
    },
    {
     "name": "stdout",
     "output_type": "stream",
     "text": [
      "9f659d5e-45de-11ed-9cfb-acde48001122\n"
     ]
    }
   ],
   "source": [
    "time_series_id = ts_service.store_time_series(df)\n",
    "print(time_series_id)"
   ]
  }
 ],
 "metadata": {
  "kernelspec": {
   "display_name": "Python 3.8.12 64-bit ('venv-moreutils')",
   "language": "python",
   "name": "python3"
  },
  "language_info": {
   "codemirror_mode": {
    "name": "ipython",
    "version": 3
   },
   "file_extension": ".py",
   "mimetype": "text/x-python",
   "name": "python",
   "nbconvert_exporter": "python",
   "pygments_lexer": "ipython3",
   "version": "3.8.12"
  },
  "orig_nbformat": 4,
  "vscode": {
   "interpreter": {
    "hash": "36fa69fcfe503cefcd12d10833b801cb7bd8f29b02d54eb6a002110ada0b87e7"
   }
  }
 },
 "nbformat": 4,
 "nbformat_minor": 2
}
