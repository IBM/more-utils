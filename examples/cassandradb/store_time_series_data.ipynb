{
 "cells": [
  {
   "cell_type": "code",
   "execution_count": 1,
   "metadata": {},
   "outputs": [],
   "source": [
    "import more_utils\n",
    "more_utils.set_logging_level(\"INFO\")\n",
    "\n",
    "import pandas as pd\n",
    "from more_utils.persistence import ModelarDB\n",
    "from more_utils.persistence.cassandradb import CassandraDB\n",
    "from more_utils.service import TimeseriesService"
   ]
  },
  {
   "cell_type": "code",
   "execution_count": 2,
   "metadata": {},
   "outputs": [],
   "source": [
    "sink_conn = CassandraDB.connect(contact_points=[\"0.0.0.0\"], port=9042)\n",
    "source_conn = ModelarDB.connect(hostname=\"localhost\", interface=\"arrow\")\n",
    "\n",
    "ts_service = TimeseriesService(source_db_conn=source_conn, sink_db_conn=sink_conn)"
   ]
  },
  {
   "cell_type": "code",
   "execution_count": 3,
   "metadata": {},
   "outputs": [],
   "source": [
    "df = pd.read_csv(\"/Users/dhaval/Projects/Datasets/nyc_taxi.csv\", parse_dates=[\"timestamp\"])"
   ]
  },
  {
   "cell_type": "code",
   "execution_count": 4,
   "metadata": {},
   "outputs": [
    {
     "name": "stderr",
     "output_type": "stream",
     "text": [
      "/Users/dhaval/.pyenv/versions/3.8.12/envs/venv-moreutils/lib/python3.8/site-packages/cassandra/cqlengine/models.py:575: UserWarning: Model __table_name__ will be case sensitive by default in 4.0. You should fix the __table_name__ value of the 'TimeSeriesEntity' model.\n",
      "  warn((\"Model __table_name__ will be case sensitive by default in 4.0. \"\n",
      "[2022-10-07 01:17:32:467] - WARNING - MoreUtils : Server warning: Batch for [moreutils.time_series] is of size 51068, exceeding specified threshold of 5120 by 45948.\n",
      "/Users/dhaval/.pyenv/versions/3.8.12/envs/venv-moreutils/lib/python3.8/site-packages/cassandra/cqlengine/query.py:221: UserWarning: Batch executed multiple times.\n",
      "  warn(msg)\n",
      "[2022-10-07 01:17:32:751] - WARNING - MoreUtils : Server warning: Batch for [moreutils.time_series] is of size 51000, exceeding specified threshold of 5120 by 45880.\n",
      "[2022-10-07 01:17:33:114] - WARNING - MoreUtils : Server warning: Batch for [moreutils.time_series] is of size 51000, exceeding specified threshold of 5120 by 45880.\n",
      "[2022-10-07 01:17:33:378] - WARNING - MoreUtils : Server warning: Batch for [moreutils.time_series] is of size 51000, exceeding specified threshold of 5120 by 45880.\n",
      "[2022-10-07 01:17:33:628] - WARNING - MoreUtils : Server warning: Batch for [moreutils.time_series] is of size 51000, exceeding specified threshold of 5120 by 45880.\n",
      "[2022-10-07 01:17:33:928] - WARNING - MoreUtils : Server warning: Batch for [moreutils.time_series] is of size 51000, exceeding specified threshold of 5120 by 45880.\n",
      "[2022-10-07 01:17:34:215] - WARNING - MoreUtils : Server warning: Batch for [moreutils.time_series] is of size 51000, exceeding specified threshold of 5120 by 45880.\n",
      "[2022-10-07 01:17:34:485] - WARNING - MoreUtils : Server warning: Batch for [moreutils.time_series] is of size 51000, exceeding specified threshold of 5120 by 45880.\n",
      "[2022-10-07 01:17:34:802] - WARNING - MoreUtils : Server warning: Batch for [moreutils.time_series] is of size 51000, exceeding specified threshold of 5120 by 45880.\n",
      "[2022-10-07 01:17:35:179] - WARNING - MoreUtils : Server warning: Batch for [moreutils.time_series] is of size 51000, exceeding specified threshold of 5120 by 45880.\n",
      "[2022-10-07 01:17:35:446] - WARNING - MoreUtils : Server warning: Batch for [moreutils.time_series] is of size 51000, exceeding specified threshold of 5120 by 45880.\n",
      "[2022-10-07 01:17:35:705] - WARNING - MoreUtils : Server warning: Batch for [moreutils.time_series] is of size 51000, exceeding specified threshold of 5120 by 45880.\n",
      "[2022-10-07 01:17:35:957] - WARNING - MoreUtils : Server warning: Batch for [moreutils.time_series] is of size 51000, exceeding specified threshold of 5120 by 45880.\n",
      "[2022-10-07 01:17:36:216] - WARNING - MoreUtils : Server warning: Batch for [moreutils.time_series] is of size 51000, exceeding specified threshold of 5120 by 45880.\n",
      "[2022-10-07 01:17:36:506] - WARNING - MoreUtils : Server warning: Batch for [moreutils.time_series] is of size 51000, exceeding specified threshold of 5120 by 45880.\n",
      "[2022-10-07 01:17:36:824] - WARNING - MoreUtils : Server warning: Batch for [moreutils.time_series] is of size 51000, exceeding specified threshold of 5120 by 45880.\n",
      "[2022-10-07 01:17:37:144] - WARNING - MoreUtils : Server warning: Batch for [moreutils.time_series] is of size 51000, exceeding specified threshold of 5120 by 45880.\n",
      "[2022-10-07 01:17:37:564] - WARNING - MoreUtils : Server warning: Batch for [moreutils.time_series] is of size 51000, exceeding specified threshold of 5120 by 45880.\n",
      "[2022-10-07 01:17:37:860] - WARNING - MoreUtils : Server warning: Batch for [moreutils.time_series] is of size 51000, exceeding specified threshold of 5120 by 45880.\n",
      "[2022-10-07 01:17:38:158] - WARNING - MoreUtils : Server warning: Batch for [moreutils.time_series] is of size 51000, exceeding specified threshold of 5120 by 45880.\n",
      "[2022-10-07 01:17:38:410] - WARNING - MoreUtils : Server warning: Batch for [moreutils.time_series] is of size 51000, exceeding specified threshold of 5120 by 45880.\n",
      "[2022-10-07 01:17:38:696] - WARNING - MoreUtils : Server warning: Batch for [moreutils.time_series] is of size 51000, exceeding specified threshold of 5120 by 45880.\n",
      "[2022-10-07 01:17:38:983] - WARNING - MoreUtils : Server warning: Batch for [moreutils.time_series] is of size 51000, exceeding specified threshold of 5120 by 45880.\n"
     ]
    }
   ],
   "source": [
    "ts_service.store_time_series(df)"
   ]
  }
 ],
 "metadata": {
  "kernelspec": {
   "display_name": "Python 3.8.12 64-bit ('venv-moreutils')",
   "language": "python",
   "name": "python3"
  },
  "language_info": {
   "codemirror_mode": {
    "name": "ipython",
    "version": 3
   },
   "file_extension": ".py",
   "mimetype": "text/x-python",
   "name": "python",
   "nbconvert_exporter": "python",
   "pygments_lexer": "ipython3",
   "version": "3.8.12"
  },
  "orig_nbformat": 4,
  "vscode": {
   "interpreter": {
    "hash": "36fa69fcfe503cefcd12d10833b801cb7bd8f29b02d54eb6a002110ada0b87e7"
   }
  }
 },
 "nbformat": 4,
 "nbformat_minor": 2
}
