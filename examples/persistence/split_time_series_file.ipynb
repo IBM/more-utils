{
 "cells": [
  {
   "cell_type": "markdown",
   "metadata": {},
   "source": [
    "### Import essential libraries"
   ]
  },
  {
   "cell_type": "code",
   "execution_count": 1,
   "metadata": {},
   "outputs": [],
   "source": [
    "from more_utils.service import TimeseriesGenerator"
   ]
  },
  {
   "cell_type": "markdown",
   "metadata": {},
   "source": [
    "### Create a timeseries generator instance\n",
    "Generator instance can be used to access all the generator APIs."
   ]
  },
  {
   "cell_type": "code",
   "execution_count": 2,
   "metadata": {},
   "outputs": [],
   "source": [
    "generator = TimeseriesGenerator()"
   ]
  },
  {
   "cell_type": "markdown",
   "metadata": {},
   "source": [
    "### API: split_time_series_by_features\n",
    "- split time series data by features.\n",
    "\n",
    "Params:\n",
    "- input_file_path (mandatory): location of the time series file.\n",
    "- timestamp_column (str, optional): label of the timeseries column.\n",
    "- features ([str], mandatory): List of features to split time series.\n",
    "- delimiter ([str], optional): input file delimiter. Defaults to \",\".\n",
    "- output_location ([str], optional): output directory to store split dataframes."
   ]
  },
  {
   "cell_type": "code",
   "execution_count": 4,
   "metadata": {},
   "outputs": [
    {
     "name": "stdout",
     "output_type": "stream",
     "text": [
      "files saved to location: /var/folders/p_/rdt928015ggfw5jzyg1qnj6m0000gn/T/tmpczgoqtt0\n"
     ]
    }
   ],
   "source": [
    "import os\n",
    "import pathlib\n",
    "df = generator.split_time_series_by_features(\n",
    "    input_file_path=\"timeseries.csv\",\n",
    "    features=[\"wind speed\",\"pitch angle\",\"rotor speed\",\"active power\",\"nacelle direction\",\"wind direction\"],\n",
    "    timestamp_column=\"datetime\",\n",
    "    output_location=os.getcwd()+\"/data\",\n",
    "    delimiter=\",\"\n",
    ")"
   ]
  }
 ],
 "metadata": {
  "interpreter": {
   "hash": "36fa69fcfe503cefcd12d10833b801cb7bd8f29b02d54eb6a002110ada0b87e7"
  },
  "kernelspec": {
   "display_name": "Python 3.8.12 64-bit ('venv-moreutils')",
   "language": "python",
   "name": "python3"
  },
  "language_info": {
   "codemirror_mode": {
    "name": "ipython",
    "version": 3
   },
   "file_extension": ".py",
   "mimetype": "text/x-python",
   "name": "python",
   "nbconvert_exporter": "python",
   "pygments_lexer": "ipython3",
   "version": "3.8.12"
  },
  "orig_nbformat": 4
 },
 "nbformat": 4,
 "nbformat_minor": 2
}
