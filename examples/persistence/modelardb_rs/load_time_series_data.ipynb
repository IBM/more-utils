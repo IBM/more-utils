{
 "cells": [
  {
   "cell_type": "code",
   "execution_count": 1,
   "metadata": {},
   "outputs": [],
   "source": [
    "import more_utils\n",
    "more_utils.set_logging_level(\"INFO\")\n",
    "import pyarrow\n",
    "from more_utils.persistence import ModelarDB\n",
    "from more_utils.time_series import ModelTable\n",
    "import pyarrow as pa\n",
    "from datetime import datetime"
   ]
  },
  {
   "cell_type": "markdown",
   "metadata": {},
   "source": [
    "### Create connection to ModelarDB\n",
    "\n",
    "Params:\n",
    "\n",
    "1. hostname: ip adrress of the system where ModelarDB is running\n",
    "2. interface: arrow (recommended), socket, http\n"
   ]
  },
  {
   "cell_type": "code",
   "execution_count": 2,
   "metadata": {},
   "outputs": [],
   "source": [
    "conn_obj = ModelarDB.connect(\n",
    "    hostname=\"localhost\",\n",
    "    manager_port=9998,\n",
    "    edge_port=9999,\n",
    "    cloud_port=9997,\n",
    "    interface=\"arrow\",\n",
    ")"
   ]
  },
  {
   "cell_type": "markdown",
   "metadata": {},
   "source": [
    "#### List tables in ModelarDB\n"
   ]
  },
  {
   "cell_type": "code",
   "execution_count": 3,
   "metadata": {},
   "outputs": [
    {
     "data": {
      "text/plain": [
       "['solar', 'solar2', 'windmill']"
      ]
     },
     "execution_count": 3,
     "metadata": {},
     "output_type": "execute_result"
    }
   ],
   "source": [
    "conn_obj.list_tables()"
   ]
  },
  {
   "cell_type": "markdown",
   "metadata": {},
   "source": [
    "#### Create Model Table from Parquet file: from_parquet_file()\n",
    "\n",
    "Params:\n",
    "\n",
    "- modelardb_conn (ModelarDB): ModelarDB connection object\n",
    "- file_path (str): parquet file path\n"
   ]
  },
  {
   "cell_type": "code",
   "execution_count": 4,
   "metadata": {},
   "outputs": [],
   "source": [
    "model_table = ModelTable.from_parquet_file(conn_obj, \"/home/dhaval/dev/datasets/solar.parquet\")"
   ]
  },
  {
   "cell_type": "markdown",
   "metadata": {},
   "source": [
    "#### Persist Table\n"
   ]
  },
  {
   "cell_type": "code",
   "execution_count": 5,
   "metadata": {},
   "outputs": [
    {
     "name": "stderr",
     "output_type": "stream",
     "text": [
      "[2023-12-09 14:41:37:433] - INFO - moreutils (ModelTable) - Model Table 'solar2' created.\n"
     ]
    },
    {
     "name": "stderr",
     "output_type": "stream",
     "text": [
      "[2023-12-09 14:41:37:455] - INFO - moreutils (ModelTable) - Data inserted successfully into the table 'solar2'.\n"
     ]
    }
   ],
   "source": [
    "model_table.persist(table_name=\"solar2\", error_bound=0)"
   ]
  },
  {
   "cell_type": "markdown",
   "metadata": {},
   "source": [
    "#### Apply Flush\n"
   ]
  },
  {
   "cell_type": "code",
   "execution_count": 4,
   "metadata": {},
   "outputs": [
    {
     "name": "stderr",
     "output_type": "stream",
     "text": [
      "[2023-12-09 14:52:35:909] - INFO - moreutils (ModelarDB) - FlushEdge: Compressed data buffers flushed.\n"
     ]
    }
   ],
   "source": [
    "conn_obj.flush(mode=\"FlushEdge\")"
   ]
  },
  {
   "cell_type": "markdown",
   "metadata": {},
   "source": [
    "#### Create custom data using Arrow Table format\n"
   ]
  },
  {
   "cell_type": "code",
   "execution_count": 5,
   "metadata": {},
   "outputs": [],
   "source": [
    "# Read the data into a PyArrow table.\n",
    "timestamp = pyarrow.array([\n",
    "    pa.scalar(datetime(2023, 9, 10), type=pa.timestamp('us')), \n",
    "    pa.scalar(datetime(2023, 9, 12), type=pa.timestamp('us')), \n",
    "    pa.scalar(datetime(2023, 9, 14), type=pa.timestamp('us'))])\n",
    "wind_turbine = pyarrow.array([\"1026\", \"1026\", \"1026\"])\n",
    "wind_direction = pyarrow.array([300.0, 300.0, 300.0])\n",
    "wind_speed = pyarrow.array([4.0, 4.0, 4.0])\n",
    "\n",
    "names = [\"timestamp\", \"wind_turbine\", \"wind_direction\", \"wind_speed\"]\n",
    "table = pyarrow.Table.from_arrays([timestamp, wind_turbine, wind_direction, wind_speed], names=names)"
   ]
  },
  {
   "cell_type": "markdown",
   "metadata": {},
   "source": [
    "#### Create Model Table from arrow table: from_arrow_table()\n",
    "\n",
    "Params:\n",
    "\n",
    "- modelardb_conn (ModelarDB): ModelarDB connection object\n",
    "- arrow_table (str): pyarrow table format"
   ]
  },
  {
   "cell_type": "code",
   "execution_count": 6,
   "metadata": {},
   "outputs": [],
   "source": [
    "model_table = ModelTable.from_arrow_table(conn_obj, table)"
   ]
  },
  {
   "cell_type": "markdown",
   "metadata": {},
   "source": [
    "#### Persist and flush\n"
   ]
  },
  {
   "cell_type": "code",
   "execution_count": 7,
   "metadata": {},
   "outputs": [
    {
     "name": "stderr",
     "output_type": "stream",
     "text": [
      "[2023-12-09 14:54:31:699] - INFO - moreutils (ModelTable) - Model Table 'test_table' created.\n",
      "[2023-12-09 14:54:31:710] - INFO - moreutils (ModelTable) - Data inserted successfully into the table 'test_table'.\n"
     ]
    }
   ],
   "source": [
    "model_table.persist(table_name=\"test_table\", error_bound=0)"
   ]
  },
  {
   "cell_type": "markdown",
   "metadata": {},
   "source": [
    "#### Apply Flush\n"
   ]
  },
  {
   "cell_type": "code",
   "execution_count": 8,
   "metadata": {},
   "outputs": [
    {
     "name": "stderr",
     "output_type": "stream",
     "text": [
      "[2023-12-09 14:55:11:745] - INFO - moreutils (ModelarDB) - FlushEdge: Compressed data buffers flushed.\n"
     ]
    }
   ],
   "source": [
    "conn_obj.flush(mode=\"FlushEdge\")"
   ]
  }
 ],
 "metadata": {
  "kernelspec": {
   "display_name": "more-utils",
   "language": "python",
   "name": "python3"
  },
  "language_info": {
   "codemirror_mode": {
    "name": "ipython",
    "version": 3
   },
   "file_extension": ".py",
   "mimetype": "text/x-python",
   "name": "python",
   "nbconvert_exporter": "python",
   "pygments_lexer": "ipython3",
   "version": "3.10.13"
  },
  "orig_nbformat": 4
 },
 "nbformat": 4,
 "nbformat_minor": 2
}
