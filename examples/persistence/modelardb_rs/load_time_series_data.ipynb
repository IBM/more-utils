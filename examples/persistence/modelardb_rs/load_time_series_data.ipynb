{
 "cells": [
  {
   "cell_type": "code",
   "execution_count": 1,
   "metadata": {},
   "outputs": [],
   "source": [
    "import more_utils\n",
    "more_utils.set_logging_level(\"INFO\")\n",
    "import pyarrow\n",
    "from more_utils.persistence import ModelarDB\n",
    "from more_utils.time_series import ModelTable\n",
    "import pyarrow as pa\n",
    "from datetime import datetime"
   ]
  },
  {
   "cell_type": "markdown",
   "metadata": {},
   "source": [
    "### Create connection to ModelarDB\n",
    "\n",
    "Params:\n",
    "\n",
    "1. hostname: ip adrress of the system where ModelarDB is running\n",
    "2. interface: arrow (recommended), socket, http\n"
   ]
  },
  {
   "cell_type": "code",
   "execution_count": 2,
   "metadata": {},
   "outputs": [],
   "source": [
    "conn_obj = ModelarDB.connect(hostname=\"83.212.75.52\", port=31000, interface=\"arrow\")"
   ]
  },
  {
   "cell_type": "markdown",
   "metadata": {},
   "source": [
    "#### List tables in ModelarDB\n"
   ]
  },
  {
   "cell_type": "code",
   "execution_count": 3,
   "metadata": {},
   "outputs": [
    {
     "data": {
      "text/plain": [
       "['wind_turbine_3',\n",
       " 'test_table',\n",
       " 'wind_turbine',\n",
       " 'wind_turbine_5',\n",
       " 'wind_turbine_4',\n",
       " 'wind_turbine_2']"
      ]
     },
     "execution_count": 3,
     "metadata": {},
     "output_type": "execute_result"
    }
   ],
   "source": [
    "conn_obj.list_tables()"
   ]
  },
  {
   "cell_type": "markdown",
   "metadata": {},
   "source": [
    "#### Create Model Table from Parquet file: from_parquet_file()\n",
    "\n",
    "Params:\n",
    "\n",
    "- modelardb_conn (ModelarDB): ModelarDB connection object\n",
    "- file_path (str): parquet file path\n"
   ]
  },
  {
   "cell_type": "code",
   "execution_count": 4,
   "metadata": {},
   "outputs": [],
   "source": [
    "model_table = ModelTable.from_parquet_file(conn_obj, \"/Users/dhaval/Projects/Datasets/wind_turbine.parquet\")"
   ]
  },
  {
   "cell_type": "markdown",
   "metadata": {},
   "source": [
    "#### Persist Table\n"
   ]
  },
  {
   "cell_type": "code",
   "execution_count": 5,
   "metadata": {},
   "outputs": [
    {
     "name": "stderr",
     "output_type": "stream",
     "text": [
      "[2023-09-14 22:34:11:842] - INFO - moreutils (ModelTable) - Model Table 'wind_turbine_6' created.\n",
      "[2023-09-14 22:35:15:161] - INFO - moreutils (ModelTable) - Data inserted successfully into the table 'wind_turbine_6'.\n"
     ]
    }
   ],
   "source": [
    "model_table.persist(table_name=\"wind_turbine_6\", error_bound=0.5)"
   ]
  },
  {
   "cell_type": "markdown",
   "metadata": {},
   "source": [
    "#### Apply Flush\n"
   ]
  },
  {
   "cell_type": "code",
   "execution_count": 6,
   "metadata": {},
   "outputs": [
    {
     "name": "stderr",
     "output_type": "stream",
     "text": [
      "[2023-09-14 22:35:15:531] - INFO - moreutils (ModelTable) - Compressed data buffers flushed.\n"
     ]
    }
   ],
   "source": [
    "model_table.flush(flush_mode=\"local\")"
   ]
  },
  {
   "cell_type": "markdown",
   "metadata": {},
   "source": [
    "#### Create custom using Arrow Table format\n"
   ]
  },
  {
   "cell_type": "code",
   "execution_count": 7,
   "metadata": {},
   "outputs": [],
   "source": [
    "# Read the data into a PyArrow table.\n",
    "timestamp = pyarrow.array([\n",
    "    pa.scalar(datetime(2023, 9, 10), type=pa.timestamp('us')), \n",
    "    pa.scalar(datetime(2023, 9, 12), type=pa.timestamp('us')), \n",
    "    pa.scalar(datetime(2023, 9, 14), type=pa.timestamp('us'))])\n",
    "wind_turbine = pyarrow.array([\"1026\", \"1026\", \"1026\"])\n",
    "wind_direction = pyarrow.array([300.0, 300.0, 300.0])\n",
    "wind_speed = pyarrow.array([4.0, 4.0, 4.0])\n",
    "\n",
    "names = [\"timestamp\", \"wind_turbine\", \"wind_direction\", \"wind_speed\"]\n",
    "table = pyarrow.Table.from_arrays([timestamp, wind_turbine, wind_direction, wind_speed], names=names)"
   ]
  },
  {
   "cell_type": "markdown",
   "metadata": {},
   "source": [
    "#### Create Model Table from Parquet file: from_arrow_table()\n",
    "\n",
    "Params:\n",
    "\n",
    "- modelardb_conn (ModelarDB): ModelarDB connection object\n",
    "- arrow_table (str): pyarrow table format"
   ]
  },
  {
   "cell_type": "code",
   "execution_count": null,
   "metadata": {},
   "outputs": [],
   "source": [
    "model_table = ModelTable.from_arrow_table(conn_obj, table)"
   ]
  },
  {
   "cell_type": "markdown",
   "metadata": {},
   "source": [
    "#### Persist and flush\n"
   ]
  },
  {
   "cell_type": "code",
   "execution_count": 8,
   "metadata": {},
   "outputs": [
    {
     "name": "stderr",
     "output_type": "stream",
     "text": [
      "[2023-09-14 22:35:16:182] - INFO - moreutils (ModelTable) - Model Table 'test_table_2' created.\n",
      "[2023-09-14 22:35:16:400] - INFO - moreutils (ModelTable) - Data inserted successfully into the table 'test_table_2'.\n",
      "[2023-09-14 22:35:16:609] - INFO - moreutils (ModelTable) - Compressed data buffers flushed.\n"
     ]
    }
   ],
   "source": [
    "model_table.persist(table_name=\"test_table_2\", error_bound=0.5)\n",
    "model_table.flush(flush_mode=\"local\")"
   ]
  }
 ],
 "metadata": {
  "kernelspec": {
   "display_name": "more-utils",
   "language": "python",
   "name": "python3"
  },
  "language_info": {
   "codemirror_mode": {
    "name": "ipython",
    "version": 3
   },
   "file_extension": ".py",
   "mimetype": "text/x-python",
   "name": "python",
   "nbconvert_exporter": "python",
   "pygments_lexer": "ipython3",
   "version": "3.10.10"
  },
  "orig_nbformat": 4
 },
 "nbformat": 4,
 "nbformat_minor": 2
}
