{
 "cells": [
  {
   "cell_type": "code",
   "execution_count": 1,
   "metadata": {},
   "outputs": [],
   "source": [
    "import more_utils\n",
    "more_utils.set_logging_level(\"INFO\")\n",
    "\n",
    "from more_utils.persistence import ModelarDB\n",
    "from more_utils.time_series import ModelTable"
   ]
  },
  {
   "cell_type": "markdown",
   "metadata": {},
   "source": [
    "### Create connection to ModelarDB\n",
    "\n",
    "Params:\n",
    "\n",
    "1. hostname: ip adrress of the system where ModelarDB is running\n",
    "2. interface: arrow (recommended), socket, http\n"
   ]
  },
  {
   "cell_type": "code",
   "execution_count": 2,
   "metadata": {},
   "outputs": [],
   "source": [
    "conn_obj = ModelarDB.connect(hostname=\"83.212.75.52\", port=31000, interface=\"arrow\")"
   ]
  },
  {
   "cell_type": "markdown",
   "metadata": {},
   "source": [
    "#### List tables in ModelarDB\n"
   ]
  },
  {
   "cell_type": "code",
   "execution_count": 7,
   "metadata": {},
   "outputs": [
    {
     "data": {
      "text/plain": [
       "['wind_turbine_3', 'wind_turbine', 'wind_turbine_4', 'wind_turbine_2']"
      ]
     },
     "execution_count": 7,
     "metadata": {},
     "output_type": "execute_result"
    }
   ],
   "source": [
    "conn_obj.list_tables()"
   ]
  },
  {
   "cell_type": "markdown",
   "metadata": {},
   "source": [
    "#### Create Model Table from Parquet file: from_parquet_file()\n",
    "\n",
    "Params:\n",
    "\n",
    "- modelardb_conn (ModelarDB): ModelarDB connection object\n",
    "- file_path (str): parquet file path\n"
   ]
  },
  {
   "cell_type": "code",
   "execution_count": 4,
   "metadata": {},
   "outputs": [],
   "source": [
    "model_table = ModelTable.from_parquet_file(conn_obj, \"/Users/dhaval/Projects/Datasets/wind_turbine.parquet\")"
   ]
  },
  {
   "cell_type": "markdown",
   "metadata": {},
   "source": [
    "#### Persist Table\n"
   ]
  },
  {
   "cell_type": "code",
   "execution_count": 5,
   "metadata": {},
   "outputs": [],
   "source": [
    "model_table.persist(table_name=\"wind_turbine_4\", error_bound=0.5)"
   ]
  },
  {
   "cell_type": "markdown",
   "metadata": {},
   "source": [
    "#### Apply Flush\n"
   ]
  },
  {
   "cell_type": "code",
   "execution_count": 6,
   "metadata": {},
   "outputs": [],
   "source": [
    "model_table.flush(flush_mode=\"local\")"
   ]
  }
 ],
 "metadata": {
  "kernelspec": {
   "display_name": "more-utils",
   "language": "python",
   "name": "python3"
  },
  "language_info": {
   "codemirror_mode": {
    "name": "ipython",
    "version": 3
   },
   "file_extension": ".py",
   "mimetype": "text/x-python",
   "name": "python",
   "nbconvert_exporter": "python",
   "pygments_lexer": "ipython3",
   "version": "3.10.10"
  },
  "orig_nbformat": 4
 },
 "nbformat": 4,
 "nbformat_minor": 2
}
