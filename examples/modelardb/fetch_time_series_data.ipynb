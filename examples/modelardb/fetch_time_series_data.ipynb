{
 "cells": [
  {
   "cell_type": "markdown",
   "metadata": {},
   "source": [
    "### Import essential libraries"
   ]
  },
  {
   "cell_type": "code",
   "execution_count": 1,
   "metadata": {},
   "outputs": [],
   "source": [
    "import more_utils\n",
    "more_utils.set_logging_level(\"INFO\")\n",
    "\n",
    "from IPython.display import display\n",
    "from more_utils.persistence import ModelarDB\n",
    "from more_utils.service import TimeseriesService"
   ]
  },
  {
   "cell_type": "markdown",
   "metadata": {},
   "source": [
    "### Create a connection to ModelarDB\n",
    "\n",
    "Params:\n",
    "1. hostname: ip adrress of the system where ModelarDB is running\n",
    "2. interface: arrow (recommended), socket, http"
   ]
  },
  {
   "cell_type": "code",
   "execution_count": 2,
   "metadata": {},
   "outputs": [],
   "source": [
    "conn_obj = ModelarDB.connect(hostname=\"localhost\", interface=\"arrow\")"
   ]
  },
  {
   "cell_type": "markdown",
   "metadata": {},
   "source": [
    "### Create a timeseries service instance\n",
    "Service instance can be used to access all the timeseries APIs."
   ]
  },
  {
   "cell_type": "code",
   "execution_count": 3,
   "metadata": {},
   "outputs": [],
   "source": [
    "ts_service = TimeseriesService(source_db_conn=conn_obj)"
   ]
  },
  {
   "cell_type": "markdown",
   "metadata": {},
   "source": [
    "### API: get_time_series_data_from_ts_ids\n",
    "\n",
    "#### 1. Fetch time-series data points for time series ids in `ts_ids`.\n",
    "\n",
    "Params:\n",
    "- ts_ids (List[int]): time series id(s).\n",
    "- from_date (Union[str, None], optional): Start timestamp.\n",
    "                                        Defaults to None.\n",
    "- to_date (Union[str, None], optional): End timestamp.\n",
    "                                        Defaults to None.\n",
    "- merge_on (str, optional): common field to merge multiple\n",
    "                            timeseries. Defaults to TIMESTAMP_LABEL.\n",
    "- value_column_labels (Union[List[str], None], optional): List of\n",
    "string to replace value column labels. Defaults to None.\n",
    "- limit (Union[int, None], optional): No of data points to fetch.\n",
    "                                    Defaults to None."
   ]
  },
  {
   "cell_type": "code",
   "execution_count": 4,
   "metadata": {},
   "outputs": [],
   "source": [
    "decompressed_ts = ts_service.get_time_series_data_from_ts_ids(ts_ids=[1], from_date='2019-01-01 00:00:02.0', to_date='2019-01-01 00:01:38', limit=5)"
   ]
  },
  {
   "cell_type": "markdown",
   "metadata": {},
   "source": [
    "#### 2. Retrieve data once time series object is created.\n",
    "\n",
    "There are two ways to retireve data,\n",
    "- fetch_all: retrieve all data at once\n",
    "- fetch_one: retrieve data a batch at a time\n",
    "\n",
    "Time series data can be fetched in three dataframes,\n",
    "- JSON (fetch_type=\"json\")\n",
    "- Pandas (fetch_type=\"pandas\")\n",
    "- PySpark (fetch_type=\"spark\")\n"
   ]
  },
  {
   "cell_type": "code",
   "execution_count": 5,
   "metadata": {},
   "outputs": [
    {
     "name": "stdout",
     "output_type": "stream",
     "text": [
      "{\n",
      "    \"columns\": [\n",
      "        \"TID\",\n",
      "        \"TIMESTAMP\",\n",
      "        \"VALUE_1\"\n",
      "    ],\n",
      "    \"data\": [\n",
      "        [\n",
      "            1,\n",
      "            \"2019-01-01 00:00:02\",\n",
      "            404.89776611328125\n",
      "        ],\n",
      "        [\n",
      "            1,\n",
      "            \"2019-01-01 00:00:04\",\n",
      "            406.8476867675781\n",
      "        ],\n",
      "        [\n",
      "            1,\n",
      "            \"2019-01-01 00:00:06\",\n",
      "            426.9863586425781\n",
      "        ],\n",
      "        [\n",
      "            1,\n",
      "            \"2019-01-01 00:00:08\",\n",
      "            440.9736633300781\n",
      "        ],\n",
      "        [\n",
      "            1,\n",
      "            \"2019-01-01 00:00:10\",\n",
      "            472.5389099121094\n",
      "        ]\n",
      "    ]\n",
      "}\n"
     ]
    }
   ],
   "source": [
    "json_str = decompressed_ts.fetch_all(fetch_type=\"json\")\n",
    "print(json_str)"
   ]
  },
  {
   "cell_type": "code",
   "execution_count": 6,
   "metadata": {},
   "outputs": [
    {
     "data": {
      "text/html": [
       "<div>\n",
       "<style scoped>\n",
       "    .dataframe tbody tr th:only-of-type {\n",
       "        vertical-align: middle;\n",
       "    }\n",
       "\n",
       "    .dataframe tbody tr th {\n",
       "        vertical-align: top;\n",
       "    }\n",
       "\n",
       "    .dataframe thead th {\n",
       "        text-align: right;\n",
       "    }\n",
       "</style>\n",
       "<table border=\"1\" class=\"dataframe\">\n",
       "  <thead>\n",
       "    <tr style=\"text-align: right;\">\n",
       "      <th></th>\n",
       "      <th>TID</th>\n",
       "      <th>TIMESTAMP</th>\n",
       "      <th>VALUE_1</th>\n",
       "    </tr>\n",
       "  </thead>\n",
       "  <tbody>\n",
       "    <tr>\n",
       "      <th>0</th>\n",
       "      <td>1</td>\n",
       "      <td>2019-01-01 00:00:02</td>\n",
       "      <td>404.897766</td>\n",
       "    </tr>\n",
       "    <tr>\n",
       "      <th>1</th>\n",
       "      <td>1</td>\n",
       "      <td>2019-01-01 00:00:04</td>\n",
       "      <td>406.847687</td>\n",
       "    </tr>\n",
       "    <tr>\n",
       "      <th>2</th>\n",
       "      <td>1</td>\n",
       "      <td>2019-01-01 00:00:06</td>\n",
       "      <td>426.986359</td>\n",
       "    </tr>\n",
       "    <tr>\n",
       "      <th>3</th>\n",
       "      <td>1</td>\n",
       "      <td>2019-01-01 00:00:08</td>\n",
       "      <td>440.973663</td>\n",
       "    </tr>\n",
       "    <tr>\n",
       "      <th>4</th>\n",
       "      <td>1</td>\n",
       "      <td>2019-01-01 00:00:10</td>\n",
       "      <td>472.538910</td>\n",
       "    </tr>\n",
       "  </tbody>\n",
       "</table>\n",
       "</div>"
      ],
      "text/plain": [
       "   TID           TIMESTAMP     VALUE_1\n",
       "0    1 2019-01-01 00:00:02  404.897766\n",
       "1    1 2019-01-01 00:00:04  406.847687\n",
       "2    1 2019-01-01 00:00:06  426.986359\n",
       "3    1 2019-01-01 00:00:08  440.973663\n",
       "4    1 2019-01-01 00:00:10  472.538910"
      ]
     },
     "execution_count": 6,
     "metadata": {},
     "output_type": "execute_result"
    }
   ],
   "source": [
    "df = decompressed_ts.fetch_all(fetch_type=\"pandas\")\n",
    "df.head(5)"
   ]
  },
  {
   "cell_type": "code",
   "execution_count": 7,
   "metadata": {},
   "outputs": [
    {
     "name": "stderr",
     "output_type": "stream",
     "text": [
      "WARNING: An illegal reflective access operation has occurred\n",
      "WARNING: Illegal reflective access by org.apache.spark.unsafe.Platform (file:/Users/dhaval/.pyenv/versions/3.8.12/envs/venv-moreutils/lib/python3.8/site-packages/pyspark/jars/spark-unsafe_2.12-3.2.1.jar) to constructor java.nio.DirectByteBuffer(long,int)\n",
      "WARNING: Please consider reporting this to the maintainers of org.apache.spark.unsafe.Platform\n",
      "WARNING: Use --illegal-access=warn to enable warnings of further illegal reflective access operations\n",
      "WARNING: All illegal access operations will be denied in a future release\n",
      "Using Spark's default log4j profile: org/apache/spark/log4j-defaults.properties\n",
      "Setting default log level to \"WARN\".\n",
      "To adjust logging level use sc.setLogLevel(newLevel). For SparkR, use setLogLevel(newLevel).\n",
      "22/06/24 10:20:42 WARN NativeCodeLoader: Unable to load native-hadoop library for your platform... using builtin-java classes where applicable\n",
      "[Stage 0:>                                                          (0 + 1) / 1]\r"
     ]
    },
    {
     "name": "stdout",
     "output_type": "stream",
     "text": [
      "+---+-------------------+------------------+\n",
      "|TID|          TIMESTAMP|           VALUE_1|\n",
      "+---+-------------------+------------------+\n",
      "|  1|2019-01-01 00:00:02|404.89776611328125|\n",
      "|  1|2019-01-01 00:00:04| 406.8476867675781|\n",
      "|  1|2019-01-01 00:00:06| 426.9863586425781|\n",
      "|  1|2019-01-01 00:00:08| 440.9736633300781|\n",
      "|  1|2019-01-01 00:00:10| 472.5389099121094|\n",
      "+---+-------------------+------------------+\n",
      "\n"
     ]
    },
    {
     "name": "stderr",
     "output_type": "stream",
     "text": [
      "                                                                                \r"
     ]
    }
   ],
   "source": [
    "df = decompressed_ts.fetch_all(fetch_type=\"spark\")\n",
    "df.show(5)"
   ]
  },
  {
   "cell_type": "markdown",
   "metadata": {},
   "source": [
    "#### 3. If there are multiple time-series id, the final output is a merged(by timestamp column) time-series."
   ]
  },
  {
   "cell_type": "code",
   "execution_count": 8,
   "metadata": {},
   "outputs": [],
   "source": [
    "merged_time_series = ts_service.get_time_series_data_from_ts_ids(ts_ids=[1,2,3,4,5,6], value_column_labels=[\"active power\",\"nacelle direction\",\"pitch angle\",\"rotor speed\",\"wind direction\",\"wind speed\"], limit=10)"
   ]
  },
  {
   "cell_type": "code",
   "execution_count": 9,
   "metadata": {},
   "outputs": [
    {
     "data": {
      "text/html": [
       "<div>\n",
       "<style scoped>\n",
       "    .dataframe tbody tr th:only-of-type {\n",
       "        vertical-align: middle;\n",
       "    }\n",
       "\n",
       "    .dataframe tbody tr th {\n",
       "        vertical-align: top;\n",
       "    }\n",
       "\n",
       "    .dataframe thead th {\n",
       "        text-align: right;\n",
       "    }\n",
       "</style>\n",
       "<table border=\"1\" class=\"dataframe\">\n",
       "  <thead>\n",
       "    <tr style=\"text-align: right;\">\n",
       "      <th></th>\n",
       "      <th>TIMESTAMP</th>\n",
       "      <th>active power</th>\n",
       "      <th>nacelle direction</th>\n",
       "      <th>pitch angle</th>\n",
       "      <th>rotor speed</th>\n",
       "      <th>wind direction</th>\n",
       "      <th>wind speed</th>\n",
       "    </tr>\n",
       "  </thead>\n",
       "  <tbody>\n",
       "    <tr>\n",
       "      <th>0</th>\n",
       "      <td>2019-01-01 00:00:02</td>\n",
       "      <td>404.897766</td>\n",
       "      <td>222.756058</td>\n",
       "      <td>0.0</td>\n",
       "      <td>11.350214</td>\n",
       "      <td>232.658554</td>\n",
       "      <td>5.069616</td>\n",
       "    </tr>\n",
       "    <tr>\n",
       "      <th>1</th>\n",
       "      <td>2019-01-01 00:00:04</td>\n",
       "      <td>406.847687</td>\n",
       "      <td>222.756058</td>\n",
       "      <td>0.0</td>\n",
       "      <td>11.380639</td>\n",
       "      <td>237.539307</td>\n",
       "      <td>4.918308</td>\n",
       "    </tr>\n",
       "    <tr>\n",
       "      <th>2</th>\n",
       "      <td>2019-01-01 00:00:06</td>\n",
       "      <td>426.986359</td>\n",
       "      <td>222.756058</td>\n",
       "      <td>0.0</td>\n",
       "      <td>11.411064</td>\n",
       "      <td>235.136139</td>\n",
       "      <td>5.506491</td>\n",
       "    </tr>\n",
       "    <tr>\n",
       "      <th>3</th>\n",
       "      <td>2019-01-01 00:00:08</td>\n",
       "      <td>440.973663</td>\n",
       "      <td>222.756058</td>\n",
       "      <td>0.0</td>\n",
       "      <td>11.441490</td>\n",
       "      <td>223.182190</td>\n",
       "      <td>5.672853</td>\n",
       "    </tr>\n",
       "    <tr>\n",
       "      <th>4</th>\n",
       "      <td>2019-01-01 00:00:10</td>\n",
       "      <td>472.538910</td>\n",
       "      <td>222.756058</td>\n",
       "      <td>0.0</td>\n",
       "      <td>11.471915</td>\n",
       "      <td>225.316437</td>\n",
       "      <td>5.942164</td>\n",
       "    </tr>\n",
       "  </tbody>\n",
       "</table>\n",
       "</div>"
      ],
      "text/plain": [
       "            TIMESTAMP  active power  nacelle direction  pitch angle  \\\n",
       "0 2019-01-01 00:00:02    404.897766         222.756058          0.0   \n",
       "1 2019-01-01 00:00:04    406.847687         222.756058          0.0   \n",
       "2 2019-01-01 00:00:06    426.986359         222.756058          0.0   \n",
       "3 2019-01-01 00:00:08    440.973663         222.756058          0.0   \n",
       "4 2019-01-01 00:00:10    472.538910         222.756058          0.0   \n",
       "\n",
       "   rotor speed  wind direction  wind speed  \n",
       "0    11.350214      232.658554    5.069616  \n",
       "1    11.380639      237.539307    4.918308  \n",
       "2    11.411064      235.136139    5.506491  \n",
       "3    11.441490      223.182190    5.672853  \n",
       "4    11.471915      225.316437    5.942164  "
      ]
     },
     "metadata": {},
     "output_type": "display_data"
    },
    {
     "data": {
      "text/html": [
       "<div>\n",
       "<style scoped>\n",
       "    .dataframe tbody tr th:only-of-type {\n",
       "        vertical-align: middle;\n",
       "    }\n",
       "\n",
       "    .dataframe tbody tr th {\n",
       "        vertical-align: top;\n",
       "    }\n",
       "\n",
       "    .dataframe thead th {\n",
       "        text-align: right;\n",
       "    }\n",
       "</style>\n",
       "<table border=\"1\" class=\"dataframe\">\n",
       "  <thead>\n",
       "    <tr style=\"text-align: right;\">\n",
       "      <th></th>\n",
       "      <th>TIMESTAMP</th>\n",
       "      <th>active power</th>\n",
       "      <th>nacelle direction</th>\n",
       "      <th>pitch angle</th>\n",
       "      <th>rotor speed</th>\n",
       "      <th>wind direction</th>\n",
       "      <th>wind speed</th>\n",
       "    </tr>\n",
       "  </thead>\n",
       "  <tbody>\n",
       "    <tr>\n",
       "      <th>0</th>\n",
       "      <td>2019-01-01 00:00:12</td>\n",
       "      <td>491.533234</td>\n",
       "      <td>222.756058</td>\n",
       "      <td>0.0</td>\n",
       "      <td>11.502340</td>\n",
       "      <td>233.563400</td>\n",
       "      <td>5.740467</td>\n",
       "    </tr>\n",
       "    <tr>\n",
       "      <th>1</th>\n",
       "      <td>2019-01-01 00:00:14</td>\n",
       "      <td>499.575226</td>\n",
       "      <td>222.756058</td>\n",
       "      <td>0.0</td>\n",
       "      <td>11.532765</td>\n",
       "      <td>229.546890</td>\n",
       "      <td>5.827747</td>\n",
       "    </tr>\n",
       "    <tr>\n",
       "      <th>2</th>\n",
       "      <td>2019-01-01 00:00:16</td>\n",
       "      <td>518.149292</td>\n",
       "      <td>222.756058</td>\n",
       "      <td>0.0</td>\n",
       "      <td>11.563190</td>\n",
       "      <td>227.083176</td>\n",
       "      <td>5.956445</td>\n",
       "    </tr>\n",
       "    <tr>\n",
       "      <th>3</th>\n",
       "      <td>2019-01-01 00:00:18</td>\n",
       "      <td>530.716003</td>\n",
       "      <td>222.756058</td>\n",
       "      <td>0.0</td>\n",
       "      <td>11.593616</td>\n",
       "      <td>225.745743</td>\n",
       "      <td>5.796626</td>\n",
       "    </tr>\n",
       "    <tr>\n",
       "      <th>4</th>\n",
       "      <td>2019-01-01 00:00:20</td>\n",
       "      <td>545.869080</td>\n",
       "      <td>222.756058</td>\n",
       "      <td>0.0</td>\n",
       "      <td>11.624042</td>\n",
       "      <td>230.552887</td>\n",
       "      <td>5.788846</td>\n",
       "    </tr>\n",
       "  </tbody>\n",
       "</table>\n",
       "</div>"
      ],
      "text/plain": [
       "            TIMESTAMP  active power  nacelle direction  pitch angle  \\\n",
       "0 2019-01-01 00:00:12    491.533234         222.756058          0.0   \n",
       "1 2019-01-01 00:00:14    499.575226         222.756058          0.0   \n",
       "2 2019-01-01 00:00:16    518.149292         222.756058          0.0   \n",
       "3 2019-01-01 00:00:18    530.716003         222.756058          0.0   \n",
       "4 2019-01-01 00:00:20    545.869080         222.756058          0.0   \n",
       "\n",
       "   rotor speed  wind direction  wind speed  \n",
       "0    11.502340      233.563400    5.740467  \n",
       "1    11.532765      229.546890    5.827747  \n",
       "2    11.563190      227.083176    5.956445  \n",
       "3    11.593616      225.745743    5.796626  \n",
       "4    11.624042      230.552887    5.788846  "
      ]
     },
     "metadata": {},
     "output_type": "display_data"
    }
   ],
   "source": [
    "for ts_data in merged_time_series.fetch_next(batch_size=5):\n",
    "    display(ts_data.head())"
   ]
  },
  {
   "cell_type": "markdown",
   "metadata": {},
   "source": [
    "### API: get_time_series_data_models_from_ts_ids\n",
    "\n",
    "#### 1. fetch data models generated from raw time series data\n",
    "\n",
    "Params:\n",
    "- ts_ids (List[int]): time series id(s).\n",
    "- from_date (Union[str, None], optional): Start timestamp.\n",
    "                                        Defaults to None.\n",
    "- to_date (Union[str, None], optional): End timestamp.\n",
    "                                        Defaults to None.\n",
    "- limit (Union[int, None], optional): No of data points to fetch.\n",
    "                                    Defaults to None."
   ]
  },
  {
   "cell_type": "code",
   "execution_count": 10,
   "metadata": {},
   "outputs": [],
   "source": [
    "ts_data_models = ts_service.get_time_series_data_models_from_ts_ids([1,2], limit=2)"
   ]
  },
  {
   "cell_type": "code",
   "execution_count": 11,
   "metadata": {},
   "outputs": [
    {
     "data": {
      "text/html": [
       "<div>\n",
       "<style scoped>\n",
       "    .dataframe tbody tr th:only-of-type {\n",
       "        vertical-align: middle;\n",
       "    }\n",
       "\n",
       "    .dataframe tbody tr th {\n",
       "        vertical-align: top;\n",
       "    }\n",
       "\n",
       "    .dataframe thead th {\n",
       "        text-align: right;\n",
       "    }\n",
       "</style>\n",
       "<table border=\"1\" class=\"dataframe\">\n",
       "  <thead>\n",
       "    <tr style=\"text-align: right;\">\n",
       "      <th></th>\n",
       "      <th>TID</th>\n",
       "      <th>START_TIME</th>\n",
       "      <th>END_TIME</th>\n",
       "      <th>MTID</th>\n",
       "      <th>MODEL</th>\n",
       "      <th>OFFSETS</th>\n",
       "    </tr>\n",
       "  </thead>\n",
       "  <tbody>\n",
       "    <tr>\n",
       "      <th>0</th>\n",
       "      <td>1</td>\n",
       "      <td>2019-01-01 00:00:02</td>\n",
       "      <td>2019-01-01 00:01:40</td>\n",
       "      <td>4</td>\n",
       "      <td>b\"C\\xcar\\xea\\xde\\x8cy\\xafY\\xfe\\x12\\xf6\\x1f _R\\...</td>\n",
       "      <td>b'\\x00\\x00\\x00\\x01\\x00\\x00\\x00\\x01\\x00\\x00\\x00...</td>\n",
       "    </tr>\n",
       "    <tr>\n",
       "      <th>1</th>\n",
       "      <td>1</td>\n",
       "      <td>2019-01-01 00:01:42</td>\n",
       "      <td>2019-01-01 00:03:20</td>\n",
       "      <td>4</td>\n",
       "      <td>b'C\\xd5\\x1b\\x89\\xe0v\\xfc;\\x14\\xcfy\\x99x\\x81\\xa...</td>\n",
       "      <td>b'\\x00\\x00\\x00\\x01\\x00\\x00\\x00\\x01\\x00\\x00\\x00...</td>\n",
       "    </tr>\n",
       "    <tr>\n",
       "      <th>2</th>\n",
       "      <td>2</td>\n",
       "      <td>2019-01-01 00:00:02</td>\n",
       "      <td>2019-01-01 11:45:48</td>\n",
       "      <td>2</td>\n",
       "      <td>b'C^\\xc1\\x8d'</td>\n",
       "      <td>b'\\x00\\x00\\x00\\x01\\x00\\x00\\x00\\x01\\x00\\x00\\x00...</td>\n",
       "    </tr>\n",
       "    <tr>\n",
       "      <th>3</th>\n",
       "      <td>2</td>\n",
       "      <td>2019-01-01 11:45:50</td>\n",
       "      <td>2019-01-01 11:47:14</td>\n",
       "      <td>3</td>\n",
       "      <td>b'?!\\xda\\xe9\\x8b\\x16\\xc3\\xd4\\xc1\\xa9\\x1c{\\x84\\...</td>\n",
       "      <td>b'\\x00\\x00\\x00\\x01\\x00\\x00\\x00\\x01\\x00\\x00\\x00...</td>\n",
       "    </tr>\n",
       "  </tbody>\n",
       "</table>\n",
       "</div>"
      ],
      "text/plain": [
       "   TID          START_TIME            END_TIME  MTID  \\\n",
       "0    1 2019-01-01 00:00:02 2019-01-01 00:01:40     4   \n",
       "1    1 2019-01-01 00:01:42 2019-01-01 00:03:20     4   \n",
       "2    2 2019-01-01 00:00:02 2019-01-01 11:45:48     2   \n",
       "3    2 2019-01-01 11:45:50 2019-01-01 11:47:14     3   \n",
       "\n",
       "                                               MODEL  \\\n",
       "0  b\"C\\xcar\\xea\\xde\\x8cy\\xafY\\xfe\\x12\\xf6\\x1f _R\\...   \n",
       "1  b'C\\xd5\\x1b\\x89\\xe0v\\xfc;\\x14\\xcfy\\x99x\\x81\\xa...   \n",
       "2                                      b'C^\\xc1\\x8d'   \n",
       "3  b'?!\\xda\\xe9\\x8b\\x16\\xc3\\xd4\\xc1\\xa9\\x1c{\\x84\\...   \n",
       "\n",
       "                                             OFFSETS  \n",
       "0  b'\\x00\\x00\\x00\\x01\\x00\\x00\\x00\\x01\\x00\\x00\\x00...  \n",
       "1  b'\\x00\\x00\\x00\\x01\\x00\\x00\\x00\\x01\\x00\\x00\\x00...  \n",
       "2  b'\\x00\\x00\\x00\\x01\\x00\\x00\\x00\\x01\\x00\\x00\\x00...  \n",
       "3  b'\\x00\\x00\\x00\\x01\\x00\\x00\\x00\\x01\\x00\\x00\\x00...  "
      ]
     },
     "execution_count": 11,
     "metadata": {},
     "output_type": "execute_result"
    }
   ],
   "source": [
    "df = ts_data_models.fetch_all(fetch_type=\"pandas\")\n",
    "df.head()"
   ]
  }
 ],
 "metadata": {
  "interpreter": {
   "hash": "36fa69fcfe503cefcd12d10833b801cb7bd8f29b02d54eb6a002110ada0b87e7"
  },
  "kernelspec": {
   "display_name": "Python 3.8.12 64-bit ('venv-moreutils')",
   "language": "python",
   "name": "python3"
  },
  "language_info": {
   "codemirror_mode": {
    "name": "ipython",
    "version": 3
   },
   "file_extension": ".py",
   "mimetype": "text/x-python",
   "name": "python",
   "nbconvert_exporter": "python",
   "pygments_lexer": "ipython3",
   "version": "3.8.12"
  },
  "orig_nbformat": 4
 },
 "nbformat": 4,
 "nbformat_minor": 2
}
